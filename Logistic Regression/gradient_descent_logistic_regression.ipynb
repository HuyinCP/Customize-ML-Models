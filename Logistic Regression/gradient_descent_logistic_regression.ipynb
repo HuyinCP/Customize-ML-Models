{
 "cells": [
  {
   "cell_type": "code",
   "execution_count": 51,
   "id": "155eb75b",
   "metadata": {},
   "outputs": [],
   "source": [
    "import numpy as np\n",
    "import copy, math\n",
    "import matplotlib.pyplot as plt"
   ]
  },
  {
   "cell_type": "code",
   "execution_count": 52,
   "id": "cd86c554",
   "metadata": {},
   "outputs": [],
   "source": [
    "x_train = np.array([[0.5, 1.5], [1,1], [1.5, 0.5], [3, 0.5], [2, 2], [1, 2.5]])\n",
    "y_train = np.array([0, 0, 0, 1, 1, 1])"
   ]
  },
  {
   "cell_type": "code",
   "execution_count": 53,
   "id": "80188d9f",
   "metadata": {},
   "outputs": [
    {
     "data": {
      "text/plain": [
       "Text(0.5, 1.0, 'Training Data with Class Labels')"
      ]
     },
     "execution_count": 53,
     "metadata": {},
     "output_type": "execute_result"
    },
    {
     "data": {
      "image/png": "[encoded data removed]",
      "text/plain": [
       "<Figure size 400x400 with 1 Axes>"
      ]
     },
     "metadata": {},
     "output_type": "display_data"
    }
   ],
   "source": [
    "def plot_data(x, y, ax):\n",
    "    colors = ['blue' if label == 0 else 'red' for label in y]\n",
    "    ax.scatter(x[:, 0], x[:, 1], c=colors, edgecolors='k', s=60)\n",
    "    for (xi, yi), label in zip(x, y):\n",
    "        ax.text(xi + 0.05, yi + 0.05, str(label), fontsize=9)\n",
    "\n",
    "fig, ax = plt.subplots(figsize=(4, 4))\n",
    "plot_data(x_train, y_train, ax)\n",
    "\n",
    "ax.axis([0, 4, 0, 3.5])\n",
    "ax.set_xlabel('$x_0$', fontsize=12)\n",
    "ax.set_ylabel('$x_1$', fontsize=12)\n",
    "ax.set_title('Training Data with Class Labels')\n"
   ]
  },
  {
   "cell_type": "markdown",
   "id": "7d981694",
   "metadata": {},
   "source": [
    "## Gradient descent for logistic regression\n",
    "+ Recall the gradient descent algorithm utilizes the gradient calculation:\n",
    "$$\n",
    "w_j = w_j - \\alpha \\frac{\\partial J(w, b)}{\\partial w_j} \\quad \\forall j \\in [0...n-1]\n",
    "$$\n",
    "$$\n",
    "b = b - \\alpha \\frac{\\partial J(w, b)}{\\partial b}\n",
    "$$\n",
    "+ Where each iteraction performs simultaneous updates on $w_j$ for all $j$\n",
    "$$\n",
    "\\frac{\\partial J(w, b)}{\\partial w_j} = \\frac{1}{m} \\sum_{i = 0}^{m-1}(f_{w, b}(x^{(i)}) - y^{(i)})x_j^{(i)}\n",
    "$$\n",
    "$$\n",
    "\\frac{\\partial J(w, b)}{\\partial b} = \\frac{1}{m} \\sum_{i = 0}^{m-1}(f_{w, b}(x^{(i)}) - y^{(i)})\n",
    "$$\n",
    "  + m is the number of training examples in the data set br\n",
    "  + $f_{w, b}(x^{(i)})$ is the model's prediction, while $y^{(i)}$ is the target\n",
    "  + For a logistic regression model \n",
    "    + $z = w \\cdot x + b$\n",
    "    + $f_{w, b}(x) = g(z)$\n",
    "    + where g(z) is sigmoid function: $g(z) = \\frac{1}{1 + e^{-z}}$\n"
   ]
  },
  {
   "cell_type": "markdown",
   "id": "70f05aad",
   "metadata": {},
   "source": [
    "## Derive the Gradient of Logistic Regression Loss Function\n",
    "### 1.Model Definition\n",
    "Giving a training set of $m$ examples:\n",
    "+ $x^{(i)} \\in R^n$ : input feature vector for examples i\n",
    "+ $y^{(i)} \\in {[0, 1]}$ : true label \n",
    "+ $w \\in R^n$ : wieghts\n",
    "+ $b \\in R$ : bias\n",
    "\n",
    "Logistic model:  \n",
    "$$z^{(i)} = w^T \\cdot x^{(i)} + b$$\n",
    "$$\\widehat{y}^{(i)} = \\sigma(z^{(i)})= \\frac{1}{1 + e^{-z^{(i)}}}$$\n",
    "### 2.Loss function\n",
    "Binary cross-entropy loss:\n",
    "$$L^{(i)} = -[y^{(i)}\\log(\\widehat{y}^{(i)}) + (1 - y^{(i)})\\log(1 - \\widehat{y}^{(i)})]$$\n",
    "Total cost function:\n",
    "$$J(w, b) = \\frac{1}{m}\\sum_{i = 1}^m = -\\frac{1}{m}\\sum_{i = 1}^m[y^{(i)}\\log(\\widehat{y}^{(i)}) + (1 - y^{(i)})\\log(1 - \\widehat{y}^{(i)})]$$\n",
    "### 3.Compute the Gradients\n",
    "#### 3.1 Derivative for $w_j$\n",
    "$$\n",
    "\\frac{\\partial J}{\\partial w_j} = \\frac{1}{m} \\sum_{i = 1}^m \\frac{\\partial L^{(i)}}{\\partial w_j}\n",
    "$$\n",
    "Apply the Chain Rule:\n",
    "$$\n",
    "\\frac{\\partial J}{\\partial w_j} = \\frac{\\partial L^{(i)}}{\\partial \\widehat{y}^{(i)}} \\cdot \\frac{\\partial \\widehat{y}^{(i)}}{\\partial z^{(i)}} \\cdot \\frac{\\partial z^{(i)}}{\\partial w_j}\n",
    "$$\n",
    "\n",
    "#### Compute for each component:\n",
    "First part $\\frac{\\partial L^{(i)}}{\\partial \\widehat{y}^{(i)}}$\n",
    "$$\n",
    "L^{(i)} = -[y^{(i)}\\log(\\widehat{y}^{(i)}) + (1 - y^{(i)})\\log(1 - \\widehat{y}^{(i)})]\n",
    "$$\n",
    "$$\n",
    "\\frac{\\partial L^{(i)}}{\\partial \\widehat{y}^{(i)}} = -\\frac{y}{\\widehat{y}^{(i)}} + \\frac{1 - y^{(i)}}{1 - \\widehat{y}^{(i)}}\n",
    "$$\n",
    "\n",
    "Second part $\\frac{\\partial \\widehat{y}^{(i)}}{\\partial z^{(i)}}$\n",
    "$$\n",
    "\\frac{\\partial \\widehat{y}^{(i)}}{\\partial z^{(i)}}(\\frac{1}{1 + e^{-z^{(i)}}})\n",
    "$$\n",
    "$$\n",
    "\\frac{\\partial \\widehat{y}^{(i)}}{\\partial z^{(i)}}(1 + e^{-z^{(i)}})^{-1} = -(1 + e^{-z^{(i)}})^{-2}\\cdot (1 + e^{-z^{(i)}})'\n",
    "$$\n",
    "$$\n",
    "\\frac{\\partial \\widehat{y}^{(i)}}{\\partial z^{(i)}}(1 + e^{-z^{(i)}})^{-1} = -(1 + e^{-z^{(i)}})^{-2}\\cdot (-e^{-z^{(i)}})\n",
    "$$\n",
    "$$\n",
    "\\frac{\\partial \\widehat{y}^{(i)}}{\\partial z^{(i)}}(1 + e^{-z^{(i)}})^{-1} = \\frac{e^{-z^{(i)}}}{(1 + e^{-z^{(i)}})^{2}}\n",
    "$$\n",
    "$$\\Rightarrow \\frac{\\partial \\widehat{y}^{(i)}}{\\partial z^{(i)}} = \\frac{e^{-z^{(i)}}}{(1 + e^{-z^{(i)}})^{2}} = \\sigma(z)(1 - \\sigma(z))\n",
    "$$\n",
    "\n",
    "Third part $\\frac{\\partial z^{(i)}}{\\partial w_j}$\n",
    "$$\n",
    "\\frac{\\partial z^{(i)}}{\\partial w_j}(\\sum_k w_k x_k^{(i)} + b) = x_j^{(i)}\n",
    "$$\n",
    "#### Combine the Chain Rule:\n",
    "$$\n",
    "\\frac{\\partial J}{\\partial w_j} = (-\\frac{y}{\\widehat{y}^{(i)}} + \\frac{1 - y^{(i)}}{1 - \\widehat{y}^{(i)}}) \\cdot \\sigma(z)(1 - \\sigma(z)) \\cdot x_j^{(i)}\n",
    "$$\n",
    "$$\n",
    "\\frac{\\partial J}{\\partial w_j} = (-\\frac{y}{\\widehat{y}^{(i)}} + \\frac{1 - y^{(i)}}{1 - \\widehat{y}^{(i)}}) \\cdot\\widehat{y}^{(i)}(1 - \\widehat{y}^{(i)}) \\cdot x_j^{(i)}\n",
    "$$\n",
    "so:\n",
    "$$\n",
    "\\frac{\\partial J}{\\partial w_j} = (\\widehat{y}^{(i)} - y^{(i)})\\cdot x_j^{(i)}\n",
    "$$"
   ]
  },
  {
   "cell_type": "code",
   "execution_count": 54,
   "id": "82426e21",
   "metadata": {},
   "outputs": [],
   "source": [
    "def sigmoid(z):\n",
    "    z = np.clip(z, -500, 500)\n",
    "    return 1 / (1 + np.exp(-z))\n",
    "\n",
    "def compute_cost_logistic(x, y, w, b):\n",
    "    # m = y.shape[0]\n",
    "    # z = x @ w + b\n",
    "    # y_hat = sigmoid(z)\n",
    "    # eps = 1e-15\n",
    "    # y_hat = np.clip(y_hat, eps, 1 - eps)\n",
    "    # J = - (1 / m) * np.sum(y * np.log(y_hat) + (1 - y) * np.log(1 - y_hat))\n",
    "    # return J\n",
    "    \"\"\"\n",
    "    Computes the cost over all examples\n",
    "    Args:\n",
    "      X : (ndarray Shape (m,n)) data, m examples by n features\n",
    "      y : (ndarray Shape (m,))  target value \n",
    "      w : (ndarray Shape (n,))  values of parameters of the model      \n",
    "      b : (scalar)              value of bias parameter of the model\n",
    "      *argv : unused, for compatibility with regularized version below\n",
    "    Returns:\n",
    "      total_cost : (scalar) cost \n",
    "    \"\"\"\n",
    "    m, n = x.shape\n",
    "    ### START CODE HERE ###\n",
    "    total_cost = 0.\n",
    "    for i in range(m):\n",
    "        f_wb = sigmoid(np.dot(x[i], w) + b)\n",
    "        total_cost += -y[i]*np.log(f_wb) -(1 - y[i])*np.log(1 - f_wb)\n",
    "        \n",
    "    total_cost /= m\n",
    "    ### END CODE HERE ### \n",
    "    return total_cost\n",
    "\n",
    "\n",
    "def compute_gradient_logistic(x, y, w, b): \n",
    "    \"\"\"\n",
    "    Computes the gradient for logistic regression \n",
    " \n",
    "    Args:\n",
    "      X : (ndarray Shape (m,n)) data, m examples by n features\n",
    "      y : (ndarray Shape (m,))  target value \n",
    "      w : (ndarray Shape (n,))  values of parameters of the model      \n",
    "      b : (scalar)              value of bias parameter of the model\n",
    "      *argv : unused, for compatibility with regularized version below\n",
    "    Returns\n",
    "      dj_dw : (ndarray Shape (n,)) The gradient of the cost w.r.t. the parameters w. \n",
    "      dj_db : (scalar)             The gradient of the cost w.r.t. the parameter b. \n",
    "    \"\"\"\n",
    "    m, n = x.shape\n",
    "    dj_dw = np.zeros(w.shape)\n",
    "    dj_db = 0.\n",
    "    ### START CODE HERE ### \n",
    "    for i in range(m):\n",
    "        f_wb = sigmoid(np.dot(x[i], w) + b)\n",
    "        err = f_wb - y[i]\n",
    "        for j in range(n):\n",
    "            dj_dw[j] += err * x[i, j]\n",
    "        dj_db += err\n",
    "            \n",
    "    dj_dw /= m\n",
    "    dj_db /= m\n",
    "    ### END CODE HERE ###\n",
    "    return dj_dw, dj_db"
   ]
  },
  {
   "cell_type": "code",
   "execution_count": 55,
   "id": "012751ff",
   "metadata": {},
   "outputs": [],
   "source": [
    "def gradient_descent(x, y, w_in, b_in, alpha, num_iters):\n",
    "    w_out = w_in.copy()\n",
    "    b_out = b_in\n",
    "    J_history = []\n",
    "    \n",
    "    for i in range(num_iters):\n",
    "        dj_dw, dj_db = compute_gradient_logistic(x, y, w_out, b_out)\n",
    "        w_out -= alpha * dj_dw\n",
    "        b_out -= alpha * dj_db\n",
    "        if i<100000:\n",
    "            J_history.append(compute_cost_logistic(x, y, w_out, b_out))\n",
    "\n",
    "    return w_out, b_out, J_history"
   ]
  },
  {
   "cell_type": "code",
   "execution_count": 56,
   "id": "bf0e5ac4",
   "metadata": {},
   "outputs": [
    {
     "name": "stdout",
     "output_type": "stream",
     "text": [
      "[5.28123029 5.07815608]\n",
      "-14.222409982019837\n"
     ]
    }
   ],
   "source": [
    "w_tmp  = np.zeros_like(x_train[0])\n",
    "b_tmp  = 0.\n",
    "alph = 0.1\n",
    "iters = 10000\n",
    "w_out, b_out, J_hist = gradient_descent(x_train, y_train, w_tmp, b_tmp, alph, iters)\n",
    "print(w_out)\n",
    "print(b_out)\n",
    "\n"
   ]
  },
  {
   "cell_type": "code",
   "execution_count": 57,
   "id": "e165fd03",
   "metadata": {},
   "outputs": [
    {
     "data": {
      "text/plain": [
       "Text(0.5, 0, 'step')"
      ]
     },
     "execution_count": 57,
     "metadata": {},
     "output_type": "execute_result"
    },
    {
     "data": {
      "image/png": "[encoded data removed]",
      "text/plain": [
       "<Figure size 800x400 with 1 Axes>"
      ]
     },
     "metadata": {},
     "output_type": "display_data"
    }
   ],
   "source": [
    "fig, ax = plt.subplots(figsize=(8, 4))\n",
    "ax.plot(J_hist[:1000000])\n",
    "ax.set_title(\"Cost vs step\")\n",
    "ax.set_ylabel('Cost')\n",
    "ax.set_xlabel('step')\n"
   ]
  }
 ],
 "metadata": {
  "kernelspec": {
   "display_name": "base",
   "language": "python",
   "name": "python3"
  },
  "language_info": {
   "codemirror_mode": {
    "name": "ipython",
    "version": 3
   },
   "file_extension": ".py",
   "mimetype": "text/x-python",
   "name": "python",
   "nbconvert_exporter": "python",
   "pygments_lexer": "ipython3",
   "version": "3.12.7"
  }
 },
 "nbformat": 4,
 "nbformat_minor": 5
}
