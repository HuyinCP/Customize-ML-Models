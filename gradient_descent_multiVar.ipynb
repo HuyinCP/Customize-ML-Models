{
 "cells": [
  {
   "cell_type": "code",
   "execution_count": 1,
   "id": "420bb88a",
   "metadata": {},
   "outputs": [],
   "source": [
    "import numpy as np\n",
    "import matplotlib.pyplot as plt\n",
    "import copy, math"
   ]
  },
  {
   "cell_type": "code",
   "execution_count": 2,
   "id": "a0fc99bb",
   "metadata": {},
   "outputs": [],
   "source": [
    "x_train = np.array([\n",
    "    [2104, 5, 1, 45], \n",
    "    [1416, 3, 2, 40], \n",
    "    [852, 2, 1, 35]\n",
    "    ])\n",
    "y_train = np.array([460, 232, 178])"
   ]
  },
  {
   "cell_type": "code",
   "execution_count": 3,
   "id": "4c40efc3",
   "metadata": {},
   "outputs": [],
   "source": [
    "b_init = 785.1811367994083\n",
    "w_init = np.array([ 0.39133535, 18.75376741, -53.36032453, -26.42131618])"
   ]
  },
  {
   "cell_type": "markdown",
   "id": "045e83b6",
   "metadata": {},
   "source": [
    "### Model prediction with multiple variables\n",
    "+ The model's prediction with multiple variables is given by the linear model:\n",
    "$$\n",
    "f_{w, b}(x) = w_0x_0 + w_1x_1 + w_2x_2 + ... +  w_{n - 1}x_{n - 1} + b\n",
    "$$\n",
    "+ or in vector notation:\n",
    "$$\n",
    "f_{w, b}(x) = w\\cdot x + b\n",
    "$$\n",
    "+ The equation for cost function with multiple variables $J(w, b)$\n",
    "$$\n",
    "J(w, b) = \\frac{1}{2m} \\sum_{i = 0}^{m - 1}(f_{w, b}(x^{(i)}) - y^{(i)})^2\n",
    "$$\n"
   ]
  },
  {
   "cell_type": "code",
   "execution_count": 4,
   "id": "49c426b8",
   "metadata": {},
   "outputs": [],
   "source": [
    "def compute_cost(x, y, w, b):            \n",
    "  \"\"\"\n",
    "  compute cost\n",
    "  Args:\n",
    "    X (ndarray (m,n)): Data, m examples with n features\n",
    "    y (ndarray (m,)) : target values\n",
    "    w (ndarray (n,)) : model parameters  \n",
    "    b (scalar)       : model parameter\n",
    "    \n",
    "  Returns:\n",
    "    cost (scalar): cost\n",
    "  \"\"\"\n",
    "  m = x.shape[0]\n",
    "  cost = 0.0\n",
    "  for i in range(m):\n",
    "    cost += (np.dot(w, x[i]) + b - y[i])**2\n",
    "  return cost / (2  * m)"
   ]
  },
  {
   "cell_type": "code",
   "execution_count": 5,
   "id": "5ae2ba0f",
   "metadata": {},
   "outputs": [
    {
     "data": {
      "text/plain": [
       "1.5578904330213735e-12"
      ]
     },
     "execution_count": 5,
     "metadata": {},
     "output_type": "execute_result"
    }
   ],
   "source": [
    "f_wb = compute_cost(x_train, y_train, w_init, b_init)\n",
    "f_wb"
   ]
  },
  {
   "cell_type": "markdown",
   "id": "c9845528",
   "metadata": {},
   "source": [
    "### Gradient Descent with multiple variables\n",
    "+ Gradient descent for multiple variables:\n",
    "$$\n",
    "w_j = w_j - \\alpha \\frac{\\partial J(w, b)}{\\partial w_j} \\quad \\forall j \\in [0;n-1]\n",
    "$$\n",
    "$$\n",
    "b = b - \\alpha \\frac{\\partial J(w, b)}{\\partial b}\n",
    "$$\n",
    "+ n is the number of features\n",
    "$$\n",
    "\\frac{\\partial J(w, b)}{\\partial w_j} = \\frac{1}{m} \\sum_{i = 0}^{m - 1} (f_{w, b}(x^{(i)}) - y^{(i)}) \\cdot  x_{j}^{(i)}\n",
    "$$\n",
    "$$\n",
    "\\frac{\\partial J(w, b)}{\\partial b} = \\frac{1}{m} \\sum_{i = 0}^{m - 1} (f_{w, b}(x^{(i)}) - y^{(i)})\n",
    "$$\n",
    "+ m number of training examples in data set\n",
    "+ $f_{w, b}(x^{(i)})$ is the model's prediction\n",
    "+ $y^{(i)}$ target value"
   ]
  },
  {
   "cell_type": "markdown",
   "id": "da9b85a7",
   "metadata": {},
   "source": [
    "| Size (sqft) | Number of Bedrooms  | Number of floors | Age of  Home | Price (1000s dollars)  |   \n",
    "| ----------------| ------------------- |----------------- |--------------|-------------- |  \n",
    "| 2104            | 5                   | 1                | 45           | 460           |  \n",
    "| 1416            | 3                   | 2                | 40           | 232           |  \n",
    "| 852             | 2                   | 1                | 35           | 178           |  "
   ]
  },
  {
   "cell_type": "code",
   "execution_count": 6,
   "id": "148e6bf2",
   "metadata": {},
   "outputs": [],
   "source": [
    "def compute_gradient(x, y, w, b):\n",
    "  \"\"\"\n",
    "  Computes the gradient for linear regression \n",
    "  Args:\n",
    "    X (ndarray (m,n)): Data, m examples with n features\n",
    "    y (ndarray (m,)) : target values\n",
    "    w (ndarray (n,)) : model parameters  \n",
    "    b (scalar)       : model parameter\n",
    "    \n",
    "  Returns:\n",
    "    dj_dw (ndarray (n,)): The gradient of the cost w.r.t. the parameters w. \n",
    "    dj_db (scalar):       The gradient of the cost w.r.t. the parameter b. \n",
    "  \"\"\"\n",
    "  m,n = x.shape\n",
    "  dj_dw = np.zeros((n,))\n",
    "  dj_db = 0.0\n",
    "  for i in range(m):\n",
    "    err = (np.dot(x[i], w) + b) - y[i]\n",
    "    for j in range(n):\n",
    "      dj_dw[j] = dj_dw[j] + err * x[i, j]\n",
    "    dj_db = dj_db + err\n",
    "  dj_dw /= m\n",
    "  dj_db /= m\n",
    "  return dj_dw, dj_db\n"
   ]
  },
  {
   "cell_type": "code",
   "execution_count": 7,
   "id": "a5fbdd4e",
   "metadata": {},
   "outputs": [],
   "source": [
    "def gradient_descent(x, y, w_in, b_in, cost_function, gradient_function, alpha, num_iters):\n",
    "  \"\"\"\n",
    "  Performs batch gradient descent to learn w and b. Updates w and b by taking \n",
    "  num_iters gradient steps with learning rate alpha\n",
    "  \n",
    "  Args:\n",
    "    X (ndarray (m,n))   : Data, m examples with n features\n",
    "    y (ndarray (m,))    : target values\n",
    "    w_in (ndarray (n,)) : initial model parameters  \n",
    "    b_in (scalar)       : initial model parameter\n",
    "    cost_function       : function to compute cost\n",
    "    gradient_function   : function to compute the gradient\n",
    "    alpha (float)       : Learning rate\n",
    "    num_iters (int)     : number of iterations to run gradient descent\n",
    "    \n",
    "  Returns:\n",
    "    w (ndarray (n,)) : Updated values of parameters \n",
    "    b (scalar)       : Updated value of parameter \n",
    "  \"\"\"\n",
    "  w_out = copy.deepcopy(w_in)\n",
    "  b_out = b_in\n",
    "  J_history = []\n",
    "  for i in range(num_iters):\n",
    "    dj_dw, dj_db = gradient_function(x, y, w_out, b_in)\n",
    "    w_out -= alpha * dj_dw\n",
    "    b_out -= alpha * dj_db\n",
    "    if i < 100000:\n",
    "      J_history.append(cost_function(x, y, w_out, b_out))\n",
    "  return w_out, b_out, J_history"
   ]
  },
  {
   "cell_type": "code",
   "execution_count": 8,
   "id": "b8968a11",
   "metadata": {},
   "outputs": [
    {
     "name": "stdout",
     "output_type": "stream",
     "text": [
      "[ 0.20396437  0.0037492  -0.01124879 -0.06586307]\n",
      "-0.0022354659580536775\n"
     ]
    }
   ],
   "source": [
    "initial_w = np.zeros_like(w_init)\n",
    "initial_b = 0.\n",
    "iterations = 1000\n",
    "alpha = 5.0e-7\n",
    "w_final, b_final, J_hist = gradient_descent(x_train, y_train, initial_w, initial_b, compute_cost, compute_gradient, alpha, iterations)\n",
    "print(w_final)\n",
    "print(b_final)\n"
   ]
  },
  {
   "cell_type": "code",
   "execution_count": 9,
   "id": "b81448dc",
   "metadata": {},
   "outputs": [
    {
     "data": {
      "text/plain": [
       "Text(0.5, 0, 'iteration step')"
      ]
     },
     "execution_count": 9,
     "metadata": {},
     "output_type": "execute_result"
    },
    {
     "data": {
      "image/png": "[encoded data removed]",
      "text/plain": [
       "<Figure size 1200x400 with 2 Axes>"
      ]
     },
     "metadata": {},
     "output_type": "display_data"
    }
   ],
   "source": [
    "fig, (ax1, ax2) = plt.subplots(1, 2, constrained_layout=True, figsize=(12, 4))\n",
    "ax1.plot(J_hist)\n",
    "ax1.set_title(\"Cost vs. iteration\")  \n",
    "ax1.set_ylabel('Cost')               \n",
    "ax1.set_xlabel('iteration step')   \n",
    "\n",
    "ax2.plot(100 + np.arange(len(J_hist[100:])), J_hist[100:])\n",
    "ax2.set_title(\"Cost vs. iteration (tail)\")\n",
    "ax2.set_ylabel('Cost') \n",
    "ax2.set_xlabel('iteration step') "
   ]
  }
 ],
 "metadata": {
  "kernelspec": {
   "display_name": "base",
   "language": "python",
   "name": "python3"
  },
  "language_info": {
   "codemirror_mode": {
    "name": "ipython",
    "version": 3
   },
   "file_extension": ".py",
   "mimetype": "text/x-python",
   "name": "python",
   "nbconvert_exporter": "python",
   "pygments_lexer": "ipython3",
   "version": "3.12.7"
  }
 },
 "nbformat": 4,
 "nbformat_minor": 5
}
