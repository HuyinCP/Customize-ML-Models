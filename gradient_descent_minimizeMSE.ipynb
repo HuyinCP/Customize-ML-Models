{
 "cells": [
  {
   "cell_type": "code",
   "execution_count": 53,
   "id": "7b632820",
   "metadata": {},
   "outputs": [],
   "source": [
    "import numpy as np\n",
    "import matplotlib.pyplot as plt"
   ]
  },
  {
   "cell_type": "code",
   "execution_count": 54,
   "id": "350371a8",
   "metadata": {},
   "outputs": [],
   "source": [
    "x_train = np.array([1.0, 2.0])\n",
    "y_train = np.array([100.0, 200.0])"
   ]
  },
  {
   "cell_type": "markdown",
   "id": "f4fa2e10",
   "metadata": {},
   "source": [
    "### What is Gradient Descent ?\n",
    "+ Gradient descent is an optimization algorithm used to minimize the cost function $J(w, b)$ by updating the parameters $w$ and $b$ in the direction that reduces the cost the most.\n",
    "### Update rule\n",
    "+ In each iteraction, gradient descent performs the follwing updates:\n",
    "$$\n",
    "\\begin{aligned}\n",
    "w = w - \\alpha \\frac{\\partial J(w,b)}{\\partial w} \\\\\n",
    "b = b - \\alpha \\frac{\\partial J(w,b)}{\\partial b}\n",
    "\\end{aligned}\n",
    "$$\n",
    "+ The gradient is defined as:\n",
    "$$\n",
    "J(w, b) = \\frac{1}{2m} \\sum_{i = 0}^{m - 1}(f_{w, b}(X^{(i)}) - y^{(i)})^2\n",
    "$$\n",
    "$$\n",
    "\\Leftrightarrow J(w, b) = \\frac{1}{2m} \\sum_{i = 0}^{m - 1}(wx^{(i)} + b - y^{(i)})^2\n",
    "$$\n",
    "+ We want to compute:\n",
    "$$\n",
    "    \\frac{\\partial J(w, b)}{\\partial w}\n",
    "$$\n",
    "$$\n",
    "    \\frac{\\partial J(w, b)}{\\partial w} = \\frac{1}{2m} \\sum_{i = 0}^{m - 1} 2(wx^{(i)} + b - y^{(i)})\\cdot x^{(i)}\n",
    "$$\n",
    "+ We want to compute:\n",
    "$$\n",
    "    \\frac{\\partial J(w, b)}{\\partial b}\n",
    "$$\n",
    "$$\n",
    "    \\frac{\\partial J(w, b)}{\\partial b} = \\frac{1}{2m} \\sum_{i = 0}^{m - 1} 2(wx^{(i)} + b - y^{(i)})\\cdot 1\n",
    "$$\n",
    "\n",
    "\n"
   ]
  },
  {
   "cell_type": "code",
   "execution_count": 55,
   "id": "cb4c1711",
   "metadata": {},
   "outputs": [],
   "source": [
    "def compute_loss_value(x, y, w, b = 0):\n",
    "    \"\"\"\n",
    "    Computes the total squared error (loss) between the predicted and target values\n",
    "\n",
    "    Args: \n",
    "        x : Input feature values\n",
    "        y : Actual target values\n",
    "        w : Wieght parameter for the linear model\n",
    "\n",
    "    Returns:\n",
    "        float: the sum of squared differances between the predicted and target values\n",
    "    \n",
    "    Designed by [Nghiem Quang Huy]\n",
    "    \"\"\"\n",
    "    m = len(x)\n",
    "    total_cost = 0\n",
    "    for i in range(m):\n",
    "        f_wb = w * x[i] + b\n",
    "        total_cost += (f_wb - y[i]) ** 2 \n",
    "    return total_cost"
   ]
  },
  {
   "cell_type": "code",
   "execution_count": 56,
   "id": "345ed33f",
   "metadata": {},
   "outputs": [],
   "source": [
    "def compute_gradient(x, y, w, b):\n",
    "    m = len(x)\n",
    "    dj_dw = 0\n",
    "    dj_db = 0\n",
    "    for i in range(m):\n",
    "        dj_db += w * x[i] + b - y[i]\n",
    "        dj_dw += (w * x[i] + b - y[i]) * x[i]\n",
    "    dj_db /= m\n",
    "    dj_dw /= m\n",
    "    return dj_dw, dj_db"
   ]
  },
  {
   "cell_type": "code",
   "execution_count": 57,
   "id": "4a736ffd",
   "metadata": {},
   "outputs": [],
   "source": [
    "def gradient_descent(x, y, w_in, b_in, alpha, num_iters, cost_function, gradient_function):\n",
    "    w_out = w_in\n",
    "    b_out = b_in\n",
    "    for i in range(num_iters):\n",
    "        dj_dw, dj_db = gradient_function(x, y, w_out, b_out)\n",
    "        w_out -= alpha * dj_dw\n",
    "        b_out -= alpha * dj_db\n",
    "    return w_out, b_out\n",
    "\n"
   ]
  },
  {
   "cell_type": "code",
   "execution_count": null,
   "id": "360bab22",
   "metadata": {},
   "outputs": [
    {
     "ename": "NameError",
     "evalue": "name 'compute_cost' is not defined",
     "output_type": "error",
     "traceback": [
      "\u001b[0;31m---------------------------------------------------------------------------\u001b[0m",
      "\u001b[0;31mNameError\u001b[0m                                 Traceback (most recent call last)",
      "Cell \u001b[0;32mIn[58], line 9\u001b[0m\n\u001b[1;32m      6\u001b[0m tmp_alpha \u001b[38;5;241m=\u001b[39m \u001b[38;5;241m1.0e-2\u001b[39m\n\u001b[1;32m      7\u001b[0m \u001b[38;5;66;03m# run gradient descent\u001b[39;00m\n\u001b[1;32m      8\u001b[0m w_final, b_final, J_hist, p_hist \u001b[38;5;241m=\u001b[39m gradient_descent(x_train ,y_train, w_init, b_init, tmp_alpha, \n\u001b[0;32m----> 9\u001b[0m                                                     iterations, compute_cost, compute_gradient)\n\u001b[1;32m     10\u001b[0m \u001b[38;5;28mprint\u001b[39m(\u001b[38;5;124mf\u001b[39m\u001b[38;5;124m\"\u001b[39m\u001b[38;5;124m(w,b) found by gradient descent: (\u001b[39m\u001b[38;5;132;01m{\u001b[39;00mw_final\u001b[38;5;132;01m:\u001b[39;00m\u001b[38;5;124m8.4f\u001b[39m\u001b[38;5;132;01m}\u001b[39;00m\u001b[38;5;124m,\u001b[39m\u001b[38;5;132;01m{\u001b[39;00mb_final\u001b[38;5;132;01m:\u001b[39;00m\u001b[38;5;124m8.4f\u001b[39m\u001b[38;5;132;01m}\u001b[39;00m\u001b[38;5;124m)\u001b[39m\u001b[38;5;124m\"\u001b[39m)\n",
      "\u001b[0;31mNameError\u001b[0m: name 'compute_cost' is not defined"
     ]
    }
   ],
   "source": [
    "if __name__ == \"__main__\":\n",
    "    w_init = 0\n",
    "    b_init = 0\n",
    "    iterations = 10000\n",
    "    tmp_alpha = 1.0e-2\n",
    "    w_final, b_final, J_hist, p_hist = gradient_descent(x_train ,y_train, w_init, b_init, tmp_alpha, \n",
    "                                                        iterations, compute_cost, compute_gradient)\n",
    "    print(f\"(w,b) found by gradient descent: ({w_final:8.4f},{b_final:8.4f})\")"
   ]
  },
  {
   "cell_type": "markdown",
   "id": "d78925a4",
   "metadata": {},
   "source": []
  }
 ],
 "metadata": {
  "kernelspec": {
   "display_name": "base",
   "language": "python",
   "name": "python3"
  },
  "language_info": {
   "codemirror_mode": {
    "name": "ipython",
    "version": 3
   },
   "file_extension": ".py",
   "mimetype": "text/x-python",
   "name": "python",
   "nbconvert_exporter": "python",
   "pygments_lexer": "ipython3",
   "version": "3.12.7"
  }
 },
 "nbformat": 4,
 "nbformat_minor": 5
}
