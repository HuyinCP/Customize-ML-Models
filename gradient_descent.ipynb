{
 "cells": [
  {
   "cell_type": "code",
   "execution_count": 19,
   "id": "7b632820",
   "metadata": {},
   "outputs": [],
   "source": [
    "import numpy as np\n",
    "import matplotlib.pyplot as plt"
   ]
  },
  {
   "cell_type": "code",
   "execution_count": 20,
   "id": "350371a8",
   "metadata": {},
   "outputs": [],
   "source": [
    "x_train = np.array([1.0, 2.0])\n",
    "y_train = np.array([100.0, 200.0])"
   ]
  },
  {
   "cell_type": "markdown",
   "id": "f4fa2e10",
   "metadata": {},
   "source": [
    "### What is Gradient Descent ?\n",
    "+ Gradient descent is an optimization algorithm used to minimize the cost function $J(w, b)$ by updating the parameters $w$ and $b$ in the direction that reduces the cost the most.\n",
    "### Update rule\n",
    "+ In each iteraction, gradient descent performs the follwing updates:\n",
    "$$\n",
    "\\begin{aligned}\n",
    "w = w - \\alpha \\frac{\\partial J(w,b)}{\\partial w} \\\\\n",
    "b = b - \\alpha \\frac{\\partial J(w,b)}{\\partial b}\n",
    "\\end{aligned}\n",
    "$$\n",
    "+ The gradient is defined as:\n",
    "$$\n",
    "J(w, b) = \\frac{1}{2m} \\sum_{i = 0}^{m - 1}(f_{w, b}(X^{(i)}) - y^{(i)})^2\n",
    "$$\n",
    "$$\n",
    "\\Leftrightarrow J(w, b) = \\frac{1}{2m} \\sum_{i = 0}^{m - 1}(wx^{(i)} + b - y^{(i)})^2\n",
    "$$\n",
    "+ We want to compute:\n",
    "$$\n",
    "    \\frac{\\partial J(w, b)}{\\partial w}\n",
    "$$\n",
    "$$\n",
    "    \\frac{\\partial J(w, b)}{\\partial w} = \\frac{1}{2m} \\sum_{i = 0}^{m - 1} 2(wx^{(i)} + b - y^{(i)})\\cdot x^{(i)}\n",
    "$$\n",
    "+ We want to compute:\n",
    "$$\n",
    "    \\frac{\\partial J(w, b)}{\\partial b}\n",
    "$$\n",
    "$$\n",
    "    \\frac{\\partial J(w, b)}{\\partial b} = \\frac{1}{2m} \\sum_{i = 0}^{m - 1} 2(wx^{(i)} + b - y^{(i)})\\cdot 1\n",
    "$$\n",
    "\n",
    "\n"
   ]
  },
  {
   "cell_type": "code",
   "execution_count": null,
   "id": "345ed33f",
   "metadata": {},
   "outputs": [],
   "source": [
    "def compute_gradient(x, y, w, b):\n",
    "    m = len(x)\n",
    "    dj_dw = 0\n",
    "    dj_db = 0\n",
    "    for i in range(m):\n",
    "        dj_db += w * x[i] + b - y[i]\n",
    "        dj_dw += (w * x[i] + b - y[i]) * x[i]\n",
    "    dj_db /= m\n",
    "    dj_dw /= m\n",
    "    return dj_dw, dj_db"
   ]
  },
  {
   "cell_type": "code",
   "execution_count": 22,
   "id": "4a736ffd",
   "metadata": {},
   "outputs": [
    {
     "name": "stdout",
     "output_type": "stream",
     "text": [
      "-244.5\n",
      "-146.5\n"
     ]
    }
   ],
   "source": [
    "w, b = compute_gradient(x_train, y_train, 1, 2)\n",
    "print(w)\n",
    "print(b)\n"
   ]
  },
  {
   "cell_type": "markdown",
   "id": "d78925a4",
   "metadata": {},
   "source": []
  }
 ],
 "metadata": {
  "kernelspec": {
   "display_name": "base",
   "language": "python",
   "name": "python3"
  },
  "language_info": {
   "codemirror_mode": {
    "name": "ipython",
    "version": 3
   },
   "file_extension": ".py",
   "mimetype": "text/x-python",
   "name": "python",
   "nbconvert_exporter": "python",
   "pygments_lexer": "ipython3",
   "version": "3.12.7"
  }
 },
 "nbformat": 4,
 "nbformat_minor": 5
}
