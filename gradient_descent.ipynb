{
 "cells": [
  {
   "cell_type": "code",
   "execution_count": null,
   "id": "7b632820",
   "metadata": {},
   "outputs": [],
   "source": [
    "import numpy as np\n",
    "import matplotlib.pyplot as plt"
   ]
  },
  {
   "cell_type": "markdown",
   "id": "f4fa2e10",
   "metadata": {},
   "source": [
    "### What is Gradient Descent ?\n",
    "+ Gradient descent is an optimization algorithm used to minimize the cost function $J(w, b)$ by updating the parameters $w$ and $b$ in the direction that reduces the cost the most.\n",
    "### Update rule\n",
    "+ In each iteraction, gradient descent performs the follwing updates:\n",
    "$$\n",
    "\\begin{aligned}\n",
    "w = w - \\alpha \\frac{\\partial J(w,b)}{\\partial w} \\\\\n",
    "b = b - \\alpha \\frac{\\partial J(w,b)}{\\partial b}\n",
    "\\end{aligned}\n",
    "$$\n",
    "+ The gradient is defined as:\n",
    "$$\n",
    "J(w, b) = \\frac{1}{2m} \\sum_{i = 0}^{m - 1}(f_{w, b}(X^{(i)}) - y^{(i)})^2\n",
    "$$\n",
    "$$\n",
    "\\Leftrightarrow J(w, b) = \\frac{1}{2m} \\sum_{i = 0}^{m - 1}(wx^{(i)} + b - y^{(i)})^2\n",
    "$$\n",
    "+ We want to compute:\n",
    "$$\n",
    "    \\frac{\\partial J(w, b)}{\\partial w}\n",
    "$$\n",
    "$$\n",
    "    \\frac{\\partial J(w, b)}{\\partial w} = \\frac{1}{2m} \\sum_{i = 0}^{m - 1} 2(wx^{(i)} + b - y^{(i)})\\cdot x^{(i)}\n",
    "$$\n",
    "+ We want to compute:\n",
    "$$\n",
    "    \\frac{\\partial J(w, b)}{\\partial b}\n",
    "$$\n",
    "$$\n",
    "    \\frac{\\partial J(w, b)}{\\partial b} = \\frac{1}{2m} \\sum_{i = 0}^{m - 1} 2(wx^{(i)} + b - y^{(i)})\\cdot 1\n",
    "$$\n",
    "    \n",
    "\n"
   ]
  },
  {
   "cell_type": "code",
   "execution_count": null,
   "id": "2ffc837e",
   "metadata": {},
   "outputs": [],
   "source": []
  }
 ],
 "metadata": {
  "kernelspec": {
   "display_name": "base",
   "language": "python",
   "name": "python3"
  },
  "language_info": {
   "codemirror_mode": {
    "name": "ipython",
    "version": 3
   },
   "file_extension": ".py",
   "mimetype": "text/x-python",
   "name": "python",
   "nbconvert_exporter": "python",
   "pygments_lexer": "ipython3",
   "version": "3.12.7"
  }
 },
 "nbformat": 4,
 "nbformat_minor": 5
}
